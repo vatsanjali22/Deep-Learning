{
  "nbformat": 4,
  "nbformat_minor": 0,
  "metadata": {
    "colab": {
      "name": "TF2.0_Linear Classification Notebook.ipynb",
      "provenance": [],
      "collapsed_sections": []
    },
    "kernelspec": {
      "name": "python3",
      "display_name": "Python 3"
    },
    "language_info": {
      "name": "python"
    }
  },
  "cells": [
    {
      "cell_type": "code",
      "metadata": {
        "colab": {
          "base_uri": "https://localhost:8080/"
        },
        "id": "kcY7L3GiyOVL",
        "outputId": "8024af77-0811-4d42-9d64-39853bcb4019"
      },
      "source": [
        "!pip install -q tensorflow==2.0.0-beta1\n",
        "import tensorflow as tf \n",
        "print(tf.__version__)"
      ],
      "execution_count": 5,
      "outputs": [
        {
          "output_type": "stream",
          "text": [
            "2.0.0-beta1\n"
          ],
          "name": "stdout"
        }
      ]
    },
    {
      "cell_type": "code",
      "metadata": {
        "id": "-_ZYIQg5zHWI"
      },
      "source": [
        "from sklearn.datasets import load_breast_cancer"
      ],
      "execution_count": 7,
      "outputs": []
    },
    {
      "cell_type": "code",
      "metadata": {
        "id": "10wCPejFyjwp"
      },
      "source": [
        "data = load_breast_cancer()"
      ],
      "execution_count": 8,
      "outputs": []
    },
    {
      "cell_type": "code",
      "metadata": {
        "colab": {
          "base_uri": "https://localhost:8080/"
        },
        "id": "0_jvlc0uzPBI",
        "outputId": "41438daa-9c2d-48cc-acdc-bc0e0a295570"
      },
      "source": [
        "type(data)"
      ],
      "execution_count": 9,
      "outputs": [
        {
          "output_type": "execute_result",
          "data": {
            "text/plain": [
              "sklearn.utils.Bunch"
            ]
          },
          "metadata": {
            "tags": []
          },
          "execution_count": 9
        }
      ]
    },
    {
      "cell_type": "code",
      "metadata": {
        "colab": {
          "base_uri": "https://localhost:8080/"
        },
        "id": "lU_ohz6Zy0qu",
        "outputId": "3b49eea0-eca9-4cd0-bacc-3ab606af9615"
      },
      "source": [
        "data.keys()"
      ],
      "execution_count": 11,
      "outputs": [
        {
          "output_type": "execute_result",
          "data": {
            "text/plain": [
              "dict_keys(['data', 'target', 'target_names', 'DESCR', 'feature_names', 'filename'])"
            ]
          },
          "metadata": {
            "tags": []
          },
          "execution_count": 11
        }
      ]
    },
    {
      "cell_type": "code",
      "metadata": {
        "colab": {
          "base_uri": "https://localhost:8080/"
        },
        "id": "ZGz7bNd2y6Ng",
        "outputId": "7b997444-5e80-4df8-cb79-dad733e6b451"
      },
      "source": [
        "data.data.shape "
      ],
      "execution_count": 12,
      "outputs": [
        {
          "output_type": "execute_result",
          "data": {
            "text/plain": [
              "(569, 30)"
            ]
          },
          "metadata": {
            "tags": []
          },
          "execution_count": 12
        }
      ]
    },
    {
      "cell_type": "code",
      "metadata": {
        "colab": {
          "base_uri": "https://localhost:8080/"
        },
        "id": "uEIq-rhYzlKc",
        "outputId": "18051cca-7f9c-42ef-b3be-aa2ca50e008d"
      },
      "source": [
        "data.target"
      ],
      "execution_count": 13,
      "outputs": [
        {
          "output_type": "execute_result",
          "data": {
            "text/plain": [
              "array([0, 0, 0, 0, 0, 0, 0, 0, 0, 0, 0, 0, 0, 0, 0, 0, 0, 0, 0, 1, 1, 1,\n",
              "       0, 0, 0, 0, 0, 0, 0, 0, 0, 0, 0, 0, 0, 0, 0, 1, 0, 0, 0, 0, 0, 0,\n",
              "       0, 0, 1, 0, 1, 1, 1, 1, 1, 0, 0, 1, 0, 0, 1, 1, 1, 1, 0, 1, 0, 0,\n",
              "       1, 1, 1, 1, 0, 1, 0, 0, 1, 0, 1, 0, 0, 1, 1, 1, 0, 0, 1, 0, 0, 0,\n",
              "       1, 1, 1, 0, 1, 1, 0, 0, 1, 1, 1, 0, 0, 1, 1, 1, 1, 0, 1, 1, 0, 1,\n",
              "       1, 1, 1, 1, 1, 1, 1, 0, 0, 0, 1, 0, 0, 1, 1, 1, 0, 0, 1, 0, 1, 0,\n",
              "       0, 1, 0, 0, 1, 1, 0, 1, 1, 0, 1, 1, 1, 1, 0, 1, 1, 1, 1, 1, 1, 1,\n",
              "       1, 1, 0, 1, 1, 1, 1, 0, 0, 1, 0, 1, 1, 0, 0, 1, 1, 0, 0, 1, 1, 1,\n",
              "       1, 0, 1, 1, 0, 0, 0, 1, 0, 1, 0, 1, 1, 1, 0, 1, 1, 0, 0, 1, 0, 0,\n",
              "       0, 0, 1, 0, 0, 0, 1, 0, 1, 0, 1, 1, 0, 1, 0, 0, 0, 0, 1, 1, 0, 0,\n",
              "       1, 1, 1, 0, 1, 1, 1, 1, 1, 0, 0, 1, 1, 0, 1, 1, 0, 0, 1, 0, 1, 1,\n",
              "       1, 1, 0, 1, 1, 1, 1, 1, 0, 1, 0, 0, 0, 0, 0, 0, 0, 0, 0, 0, 0, 0,\n",
              "       0, 0, 1, 1, 1, 1, 1, 1, 0, 1, 0, 1, 1, 0, 1, 1, 0, 1, 0, 0, 1, 1,\n",
              "       1, 1, 1, 1, 1, 1, 1, 1, 1, 1, 1, 0, 1, 1, 0, 1, 0, 1, 1, 1, 1, 1,\n",
              "       1, 1, 1, 1, 1, 1, 1, 1, 1, 0, 1, 1, 1, 0, 1, 0, 1, 1, 1, 1, 0, 0,\n",
              "       0, 1, 1, 1, 1, 0, 1, 0, 1, 0, 1, 1, 1, 0, 1, 1, 1, 1, 1, 1, 1, 0,\n",
              "       0, 0, 1, 1, 1, 1, 1, 1, 1, 1, 1, 1, 1, 0, 0, 1, 0, 0, 0, 1, 0, 0,\n",
              "       1, 1, 1, 1, 1, 0, 1, 1, 1, 1, 1, 0, 1, 1, 1, 0, 1, 1, 0, 0, 1, 1,\n",
              "       1, 1, 1, 1, 0, 1, 1, 1, 1, 1, 1, 1, 0, 1, 1, 1, 1, 1, 0, 1, 1, 0,\n",
              "       1, 1, 1, 1, 1, 1, 1, 1, 1, 1, 1, 1, 0, 1, 0, 0, 1, 0, 1, 1, 1, 1,\n",
              "       1, 0, 1, 1, 0, 1, 0, 1, 1, 0, 1, 0, 1, 1, 1, 1, 1, 1, 1, 1, 0, 0,\n",
              "       1, 1, 1, 1, 1, 1, 0, 1, 1, 1, 1, 1, 1, 1, 1, 1, 1, 0, 1, 1, 1, 1,\n",
              "       1, 1, 1, 0, 1, 0, 1, 1, 0, 1, 1, 1, 1, 1, 0, 0, 1, 0, 1, 0, 1, 1,\n",
              "       1, 1, 1, 0, 1, 1, 0, 1, 0, 1, 0, 0, 1, 1, 1, 0, 1, 1, 1, 1, 1, 1,\n",
              "       1, 1, 1, 1, 1, 0, 1, 0, 0, 1, 1, 1, 1, 1, 1, 1, 1, 1, 1, 1, 1, 1,\n",
              "       1, 1, 1, 1, 1, 1, 1, 1, 1, 1, 1, 1, 0, 0, 0, 0, 0, 0, 1])"
            ]
          },
          "metadata": {
            "tags": []
          },
          "execution_count": 13
        }
      ]
    },
    {
      "cell_type": "code",
      "metadata": {
        "colab": {
          "base_uri": "https://localhost:8080/"
        },
        "id": "yWR_ZGzJzloP",
        "outputId": "29b3115f-edab-4ac9-f104-42da9bd265a1"
      },
      "source": [
        "data.target_names"
      ],
      "execution_count": 14,
      "outputs": [
        {
          "output_type": "execute_result",
          "data": {
            "text/plain": [
              "array(['malignant', 'benign'], dtype='<U9')"
            ]
          },
          "metadata": {
            "tags": []
          },
          "execution_count": 14
        }
      ]
    },
    {
      "cell_type": "code",
      "metadata": {
        "id": "WSOvnvFUzwg_"
      },
      "source": [
        "from sklearn.model_selection import train_test_split"
      ],
      "execution_count": 15,
      "outputs": []
    },
    {
      "cell_type": "code",
      "metadata": {
        "id": "4yRtdylYzw-J"
      },
      "source": [
        "X_train, X_test, y_train, y_test = train_test_split(data.data, data.target, test_size=0.33)\n",
        "N, D = X_train.shape"
      ],
      "execution_count": 16,
      "outputs": []
    },
    {
      "cell_type": "code",
      "metadata": {
        "id": "30BeXj6c0cuo"
      },
      "source": [
        "from sklearn.preprocessing import StandardScaler\n",
        "scaler = StandardScaler()\n",
        "X_train = scaler.fit_transform(X_train)\n",
        "X_test = scaler.fit_transform(X_test)"
      ],
      "execution_count": 17,
      "outputs": []
    },
    {
      "cell_type": "code",
      "metadata": {
        "colab": {
          "base_uri": "https://localhost:8080/"
        },
        "id": "0RYlCYbh0dMZ",
        "outputId": "d368e65b-bab9-4d0b-bed3-4d9dcb0c66ca"
      },
      "source": [
        "model = tf.keras.models.Sequential([\n",
        "  tf.keras.layers.Input(shape=(D,)),\n",
        "  tf.keras.layers.Dense(1, activation='sigmoid')\n",
        "])\n",
        "\n",
        "model.compile(optimizer='adam',\n",
        "              loss='binary_crossentropy',\n",
        "              metrics=['accuracy'])\n",
        "\n",
        "r = model.fit(X_train, y_train, validation_data=(X_test, y_test), epochs=100)\n",
        "print('Train score', model.evaluate(X_train, y_train))\n",
        "print('Test score', model.evaluate(X_test, y_test))"
      ],
      "execution_count": 26,
      "outputs": [
        {
          "output_type": "stream",
          "text": [
            "WARNING:tensorflow:From /usr/local/lib/python3.7/dist-packages/tensorflow/python/ops/math_grad.py:1250: add_dispatch_support.<locals>.wrapper (from tensorflow.python.ops.array_ops) is deprecated and will be removed in a future version.\n",
            "Instructions for updating:\n",
            "Use tf.where in 2.0, which has the same broadcast rule as np.where\n",
            "Train on 381 samples, validate on 188 samples\n",
            "Epoch 1/100\n",
            "381/381 [==============================] - 0s 600us/sample - loss: 0.5138 - accuracy: 0.7375 - val_loss: 0.5340 - val_accuracy: 0.7234\n",
            "Epoch 2/100\n",
            "381/381 [==============================] - 0s 82us/sample - loss: 0.4595 - accuracy: 0.8110 - val_loss: 0.4781 - val_accuracy: 0.7872\n",
            "Epoch 3/100\n",
            "381/381 [==============================] - 0s 85us/sample - loss: 0.4127 - accuracy: 0.8478 - val_loss: 0.4315 - val_accuracy: 0.8245\n",
            "Epoch 4/100\n",
            "381/381 [==============================] - 0s 75us/sample - loss: 0.3751 - accuracy: 0.8635 - val_loss: 0.3916 - val_accuracy: 0.8564\n",
            "Epoch 5/100\n",
            "381/381 [==============================] - 0s 75us/sample - loss: 0.3429 - accuracy: 0.8845 - val_loss: 0.3585 - val_accuracy: 0.8830\n",
            "Epoch 6/100\n",
            "381/381 [==============================] - 0s 90us/sample - loss: 0.3162 - accuracy: 0.9108 - val_loss: 0.3311 - val_accuracy: 0.8989\n",
            "Epoch 7/100\n",
            "381/381 [==============================] - 0s 69us/sample - loss: 0.2941 - accuracy: 0.9186 - val_loss: 0.3079 - val_accuracy: 0.9043\n",
            "Epoch 8/100\n",
            "381/381 [==============================] - 0s 71us/sample - loss: 0.2758 - accuracy: 0.9265 - val_loss: 0.2881 - val_accuracy: 0.9255\n",
            "Epoch 9/100\n",
            "381/381 [==============================] - 0s 90us/sample - loss: 0.2596 - accuracy: 0.9396 - val_loss: 0.2718 - val_accuracy: 0.9415\n",
            "Epoch 10/100\n",
            "381/381 [==============================] - 0s 69us/sample - loss: 0.2462 - accuracy: 0.9501 - val_loss: 0.2577 - val_accuracy: 0.9415\n",
            "Epoch 11/100\n",
            "381/381 [==============================] - 0s 75us/sample - loss: 0.2347 - accuracy: 0.9554 - val_loss: 0.2451 - val_accuracy: 0.9468\n",
            "Epoch 12/100\n",
            "381/381 [==============================] - 0s 77us/sample - loss: 0.2244 - accuracy: 0.9554 - val_loss: 0.2343 - val_accuracy: 0.9468\n",
            "Epoch 13/100\n",
            "381/381 [==============================] - 0s 111us/sample - loss: 0.2155 - accuracy: 0.9580 - val_loss: 0.2247 - val_accuracy: 0.9521\n",
            "Epoch 14/100\n",
            "381/381 [==============================] - 0s 84us/sample - loss: 0.2074 - accuracy: 0.9606 - val_loss: 0.2165 - val_accuracy: 0.9521\n",
            "Epoch 15/100\n",
            "381/381 [==============================] - 0s 78us/sample - loss: 0.2002 - accuracy: 0.9633 - val_loss: 0.2091 - val_accuracy: 0.9574\n",
            "Epoch 16/100\n",
            "381/381 [==============================] - 0s 80us/sample - loss: 0.1939 - accuracy: 0.9659 - val_loss: 0.2023 - val_accuracy: 0.9574\n",
            "Epoch 17/100\n",
            "381/381 [==============================] - 0s 94us/sample - loss: 0.1880 - accuracy: 0.9659 - val_loss: 0.1964 - val_accuracy: 0.9574\n",
            "Epoch 18/100\n",
            "381/381 [==============================] - 0s 75us/sample - loss: 0.1828 - accuracy: 0.9633 - val_loss: 0.1909 - val_accuracy: 0.9574\n",
            "Epoch 19/100\n",
            "381/381 [==============================] - 0s 86us/sample - loss: 0.1780 - accuracy: 0.9633 - val_loss: 0.1860 - val_accuracy: 0.9574\n",
            "Epoch 20/100\n",
            "381/381 [==============================] - 0s 88us/sample - loss: 0.1734 - accuracy: 0.9633 - val_loss: 0.1816 - val_accuracy: 0.9574\n",
            "Epoch 21/100\n",
            "381/381 [==============================] - 0s 71us/sample - loss: 0.1694 - accuracy: 0.9633 - val_loss: 0.1774 - val_accuracy: 0.9574\n",
            "Epoch 22/100\n",
            "381/381 [==============================] - 0s 75us/sample - loss: 0.1656 - accuracy: 0.9633 - val_loss: 0.1736 - val_accuracy: 0.9574\n",
            "Epoch 23/100\n",
            "381/381 [==============================] - 0s 70us/sample - loss: 0.1620 - accuracy: 0.9633 - val_loss: 0.1701 - val_accuracy: 0.9574\n",
            "Epoch 24/100\n",
            "381/381 [==============================] - 0s 74us/sample - loss: 0.1587 - accuracy: 0.9633 - val_loss: 0.1669 - val_accuracy: 0.9628\n",
            "Epoch 25/100\n",
            "381/381 [==============================] - 0s 111us/sample - loss: 0.1556 - accuracy: 0.9606 - val_loss: 0.1638 - val_accuracy: 0.9628\n",
            "Epoch 26/100\n",
            "381/381 [==============================] - 0s 70us/sample - loss: 0.1526 - accuracy: 0.9606 - val_loss: 0.1611 - val_accuracy: 0.9628\n",
            "Epoch 27/100\n",
            "381/381 [==============================] - 0s 82us/sample - loss: 0.1500 - accuracy: 0.9606 - val_loss: 0.1585 - val_accuracy: 0.9628\n",
            "Epoch 28/100\n",
            "381/381 [==============================] - 0s 84us/sample - loss: 0.1474 - accuracy: 0.9633 - val_loss: 0.1560 - val_accuracy: 0.9628\n",
            "Epoch 29/100\n",
            "381/381 [==============================] - 0s 73us/sample - loss: 0.1450 - accuracy: 0.9633 - val_loss: 0.1536 - val_accuracy: 0.9628\n",
            "Epoch 30/100\n",
            "381/381 [==============================] - 0s 83us/sample - loss: 0.1426 - accuracy: 0.9633 - val_loss: 0.1514 - val_accuracy: 0.9628\n",
            "Epoch 31/100\n",
            "381/381 [==============================] - 0s 76us/sample - loss: 0.1404 - accuracy: 0.9633 - val_loss: 0.1494 - val_accuracy: 0.9628\n",
            "Epoch 32/100\n",
            "381/381 [==============================] - 0s 89us/sample - loss: 0.1383 - accuracy: 0.9633 - val_loss: 0.1474 - val_accuracy: 0.9628\n",
            "Epoch 33/100\n",
            "381/381 [==============================] - 0s 72us/sample - loss: 0.1363 - accuracy: 0.9633 - val_loss: 0.1456 - val_accuracy: 0.9628\n",
            "Epoch 34/100\n",
            "381/381 [==============================] - 0s 69us/sample - loss: 0.1344 - accuracy: 0.9633 - val_loss: 0.1437 - val_accuracy: 0.9628\n",
            "Epoch 35/100\n",
            "381/381 [==============================] - 0s 87us/sample - loss: 0.1326 - accuracy: 0.9633 - val_loss: 0.1421 - val_accuracy: 0.9628\n",
            "Epoch 36/100\n",
            "381/381 [==============================] - 0s 75us/sample - loss: 0.1309 - accuracy: 0.9633 - val_loss: 0.1404 - val_accuracy: 0.9628\n",
            "Epoch 37/100\n",
            "381/381 [==============================] - 0s 96us/sample - loss: 0.1292 - accuracy: 0.9633 - val_loss: 0.1389 - val_accuracy: 0.9628\n",
            "Epoch 38/100\n",
            "381/381 [==============================] - 0s 77us/sample - loss: 0.1276 - accuracy: 0.9633 - val_loss: 0.1374 - val_accuracy: 0.9681\n",
            "Epoch 39/100\n",
            "381/381 [==============================] - 0s 72us/sample - loss: 0.1260 - accuracy: 0.9633 - val_loss: 0.1360 - val_accuracy: 0.9681\n",
            "Epoch 40/100\n",
            "381/381 [==============================] - 0s 80us/sample - loss: 0.1246 - accuracy: 0.9633 - val_loss: 0.1347 - val_accuracy: 0.9681\n",
            "Epoch 41/100\n",
            "381/381 [==============================] - 0s 80us/sample - loss: 0.1231 - accuracy: 0.9633 - val_loss: 0.1334 - val_accuracy: 0.9681\n",
            "Epoch 42/100\n",
            "381/381 [==============================] - 0s 78us/sample - loss: 0.1218 - accuracy: 0.9633 - val_loss: 0.1321 - val_accuracy: 0.9681\n",
            "Epoch 43/100\n",
            "381/381 [==============================] - 0s 87us/sample - loss: 0.1204 - accuracy: 0.9606 - val_loss: 0.1309 - val_accuracy: 0.9681\n",
            "Epoch 44/100\n",
            "381/381 [==============================] - 0s 65us/sample - loss: 0.1191 - accuracy: 0.9606 - val_loss: 0.1298 - val_accuracy: 0.9681\n",
            "Epoch 45/100\n",
            "381/381 [==============================] - 0s 86us/sample - loss: 0.1179 - accuracy: 0.9606 - val_loss: 0.1287 - val_accuracy: 0.9681\n",
            "Epoch 46/100\n",
            "381/381 [==============================] - 0s 78us/sample - loss: 0.1167 - accuracy: 0.9606 - val_loss: 0.1277 - val_accuracy: 0.9681\n",
            "Epoch 47/100\n",
            "381/381 [==============================] - 0s 80us/sample - loss: 0.1156 - accuracy: 0.9606 - val_loss: 0.1266 - val_accuracy: 0.9681\n",
            "Epoch 48/100\n",
            "381/381 [==============================] - 0s 89us/sample - loss: 0.1144 - accuracy: 0.9606 - val_loss: 0.1257 - val_accuracy: 0.9681\n",
            "Epoch 49/100\n",
            "381/381 [==============================] - 0s 87us/sample - loss: 0.1133 - accuracy: 0.9633 - val_loss: 0.1247 - val_accuracy: 0.9681\n",
            "Epoch 50/100\n",
            "381/381 [==============================] - 0s 87us/sample - loss: 0.1123 - accuracy: 0.9633 - val_loss: 0.1238 - val_accuracy: 0.9681\n",
            "Epoch 51/100\n",
            "381/381 [==============================] - 0s 96us/sample - loss: 0.1112 - accuracy: 0.9659 - val_loss: 0.1229 - val_accuracy: 0.9681\n",
            "Epoch 52/100\n",
            "381/381 [==============================] - 0s 76us/sample - loss: 0.1102 - accuracy: 0.9659 - val_loss: 0.1220 - val_accuracy: 0.9681\n",
            "Epoch 53/100\n",
            "381/381 [==============================] - 0s 98us/sample - loss: 0.1093 - accuracy: 0.9659 - val_loss: 0.1212 - val_accuracy: 0.9681\n",
            "Epoch 54/100\n",
            "381/381 [==============================] - 0s 86us/sample - loss: 0.1083 - accuracy: 0.9659 - val_loss: 0.1204 - val_accuracy: 0.9681\n",
            "Epoch 55/100\n",
            "381/381 [==============================] - 0s 91us/sample - loss: 0.1074 - accuracy: 0.9659 - val_loss: 0.1196 - val_accuracy: 0.9681\n",
            "Epoch 56/100\n",
            "381/381 [==============================] - 0s 93us/sample - loss: 0.1065 - accuracy: 0.9659 - val_loss: 0.1189 - val_accuracy: 0.9681\n",
            "Epoch 57/100\n",
            "381/381 [==============================] - 0s 93us/sample - loss: 0.1057 - accuracy: 0.9659 - val_loss: 0.1182 - val_accuracy: 0.9681\n",
            "Epoch 58/100\n",
            "381/381 [==============================] - 0s 81us/sample - loss: 0.1048 - accuracy: 0.9659 - val_loss: 0.1175 - val_accuracy: 0.9681\n",
            "Epoch 59/100\n",
            "381/381 [==============================] - 0s 78us/sample - loss: 0.1040 - accuracy: 0.9659 - val_loss: 0.1168 - val_accuracy: 0.9681\n",
            "Epoch 60/100\n",
            "381/381 [==============================] - 0s 80us/sample - loss: 0.1032 - accuracy: 0.9659 - val_loss: 0.1161 - val_accuracy: 0.9681\n",
            "Epoch 61/100\n",
            "381/381 [==============================] - 0s 93us/sample - loss: 0.1024 - accuracy: 0.9659 - val_loss: 0.1154 - val_accuracy: 0.9681\n",
            "Epoch 62/100\n",
            "381/381 [==============================] - 0s 77us/sample - loss: 0.1017 - accuracy: 0.9659 - val_loss: 0.1148 - val_accuracy: 0.9681\n",
            "Epoch 63/100\n",
            "381/381 [==============================] - 0s 83us/sample - loss: 0.1009 - accuracy: 0.9659 - val_loss: 0.1142 - val_accuracy: 0.9734\n",
            "Epoch 64/100\n",
            "381/381 [==============================] - 0s 79us/sample - loss: 0.1002 - accuracy: 0.9685 - val_loss: 0.1136 - val_accuracy: 0.9734\n",
            "Epoch 65/100\n",
            "381/381 [==============================] - 0s 101us/sample - loss: 0.0995 - accuracy: 0.9659 - val_loss: 0.1130 - val_accuracy: 0.9734\n",
            "Epoch 66/100\n",
            "381/381 [==============================] - 0s 77us/sample - loss: 0.0988 - accuracy: 0.9711 - val_loss: 0.1125 - val_accuracy: 0.9734\n",
            "Epoch 67/100\n",
            "381/381 [==============================] - 0s 76us/sample - loss: 0.0981 - accuracy: 0.9711 - val_loss: 0.1119 - val_accuracy: 0.9734\n",
            "Epoch 68/100\n",
            "381/381 [==============================] - 0s 67us/sample - loss: 0.0974 - accuracy: 0.9711 - val_loss: 0.1114 - val_accuracy: 0.9734\n",
            "Epoch 69/100\n",
            "381/381 [==============================] - 0s 77us/sample - loss: 0.0968 - accuracy: 0.9711 - val_loss: 0.1109 - val_accuracy: 0.9734\n",
            "Epoch 70/100\n",
            "381/381 [==============================] - 0s 68us/sample - loss: 0.0962 - accuracy: 0.9711 - val_loss: 0.1104 - val_accuracy: 0.9734\n",
            "Epoch 71/100\n",
            "381/381 [==============================] - 0s 86us/sample - loss: 0.0955 - accuracy: 0.9711 - val_loss: 0.1099 - val_accuracy: 0.9787\n",
            "Epoch 72/100\n",
            "381/381 [==============================] - 0s 85us/sample - loss: 0.0949 - accuracy: 0.9711 - val_loss: 0.1094 - val_accuracy: 0.9787\n",
            "Epoch 73/100\n",
            "381/381 [==============================] - 0s 82us/sample - loss: 0.0943 - accuracy: 0.9711 - val_loss: 0.1090 - val_accuracy: 0.9787\n",
            "Epoch 74/100\n",
            "381/381 [==============================] - 0s 77us/sample - loss: 0.0937 - accuracy: 0.9711 - val_loss: 0.1085 - val_accuracy: 0.9787\n",
            "Epoch 75/100\n",
            "381/381 [==============================] - 0s 80us/sample - loss: 0.0932 - accuracy: 0.9711 - val_loss: 0.1080 - val_accuracy: 0.9787\n",
            "Epoch 76/100\n",
            "381/381 [==============================] - 0s 87us/sample - loss: 0.0926 - accuracy: 0.9711 - val_loss: 0.1076 - val_accuracy: 0.9787\n",
            "Epoch 77/100\n",
            "381/381 [==============================] - 0s 92us/sample - loss: 0.0921 - accuracy: 0.9711 - val_loss: 0.1071 - val_accuracy: 0.9787\n",
            "Epoch 78/100\n",
            "381/381 [==============================] - 0s 75us/sample - loss: 0.0915 - accuracy: 0.9711 - val_loss: 0.1068 - val_accuracy: 0.9787\n",
            "Epoch 79/100\n",
            "381/381 [==============================] - 0s 82us/sample - loss: 0.0910 - accuracy: 0.9711 - val_loss: 0.1063 - val_accuracy: 0.9787\n",
            "Epoch 80/100\n",
            "381/381 [==============================] - 0s 78us/sample - loss: 0.0905 - accuracy: 0.9738 - val_loss: 0.1059 - val_accuracy: 0.9787\n",
            "Epoch 81/100\n",
            "381/381 [==============================] - 0s 80us/sample - loss: 0.0900 - accuracy: 0.9738 - val_loss: 0.1055 - val_accuracy: 0.9787\n",
            "Epoch 82/100\n",
            "381/381 [==============================] - 0s 107us/sample - loss: 0.0895 - accuracy: 0.9738 - val_loss: 0.1052 - val_accuracy: 0.9787\n",
            "Epoch 83/100\n",
            "381/381 [==============================] - 0s 103us/sample - loss: 0.0890 - accuracy: 0.9738 - val_loss: 0.1048 - val_accuracy: 0.9787\n",
            "Epoch 84/100\n",
            "381/381 [==============================] - 0s 78us/sample - loss: 0.0885 - accuracy: 0.9738 - val_loss: 0.1045 - val_accuracy: 0.9787\n",
            "Epoch 85/100\n",
            "381/381 [==============================] - 0s 99us/sample - loss: 0.0880 - accuracy: 0.9738 - val_loss: 0.1041 - val_accuracy: 0.9787\n",
            "Epoch 86/100\n",
            "381/381 [==============================] - 0s 94us/sample - loss: 0.0876 - accuracy: 0.9738 - val_loss: 0.1037 - val_accuracy: 0.9787\n",
            "Epoch 87/100\n",
            "381/381 [==============================] - 0s 72us/sample - loss: 0.0871 - accuracy: 0.9738 - val_loss: 0.1034 - val_accuracy: 0.9787\n",
            "Epoch 88/100\n",
            "381/381 [==============================] - 0s 85us/sample - loss: 0.0866 - accuracy: 0.9738 - val_loss: 0.1030 - val_accuracy: 0.9787\n",
            "Epoch 89/100\n",
            "381/381 [==============================] - 0s 78us/sample - loss: 0.0863 - accuracy: 0.9738 - val_loss: 0.1027 - val_accuracy: 0.9787\n",
            "Epoch 90/100\n",
            "381/381 [==============================] - 0s 78us/sample - loss: 0.0858 - accuracy: 0.9764 - val_loss: 0.1024 - val_accuracy: 0.9787\n",
            "Epoch 91/100\n",
            "381/381 [==============================] - 0s 85us/sample - loss: 0.0854 - accuracy: 0.9764 - val_loss: 0.1021 - val_accuracy: 0.9787\n",
            "Epoch 92/100\n",
            "381/381 [==============================] - 0s 83us/sample - loss: 0.0849 - accuracy: 0.9790 - val_loss: 0.1018 - val_accuracy: 0.9787\n",
            "Epoch 93/100\n",
            "381/381 [==============================] - 0s 69us/sample - loss: 0.0845 - accuracy: 0.9764 - val_loss: 0.1015 - val_accuracy: 0.9787\n",
            "Epoch 94/100\n",
            "381/381 [==============================] - 0s 87us/sample - loss: 0.0841 - accuracy: 0.9790 - val_loss: 0.1012 - val_accuracy: 0.9787\n",
            "Epoch 95/100\n",
            "381/381 [==============================] - 0s 83us/sample - loss: 0.0837 - accuracy: 0.9790 - val_loss: 0.1009 - val_accuracy: 0.9787\n",
            "Epoch 96/100\n",
            "381/381 [==============================] - 0s 93us/sample - loss: 0.0833 - accuracy: 0.9816 - val_loss: 0.1006 - val_accuracy: 0.9787\n",
            "Epoch 97/100\n",
            "381/381 [==============================] - 0s 86us/sample - loss: 0.0829 - accuracy: 0.9816 - val_loss: 0.1003 - val_accuracy: 0.9787\n",
            "Epoch 98/100\n",
            "381/381 [==============================] - 0s 85us/sample - loss: 0.0825 - accuracy: 0.9816 - val_loss: 0.1000 - val_accuracy: 0.9787\n",
            "Epoch 99/100\n",
            "381/381 [==============================] - 0s 70us/sample - loss: 0.0822 - accuracy: 0.9816 - val_loss: 0.0997 - val_accuracy: 0.9787\n",
            "Epoch 100/100\n",
            "381/381 [==============================] - 0s 84us/sample - loss: 0.0818 - accuracy: 0.9816 - val_loss: 0.0995 - val_accuracy: 0.9787\n",
            "381/381 [==============================] - 0s 69us/sample - loss: 0.0816 - accuracy: 0.9816\n",
            "Train score [0.08156410491783318, 0.9816273]\n",
            "188/188 [==============================] - 0s 67us/sample - loss: 0.0995 - accuracy: 0.9787\n",
            "Test score [0.09947264860285089, 0.9787234]\n"
          ],
          "name": "stdout"
        }
      ]
    },
    {
      "cell_type": "code",
      "metadata": {
        "colab": {
          "base_uri": "https://localhost:8080/",
          "height": 282
        },
        "id": "xCLnjT7-1L2f",
        "outputId": "130948ff-67aa-4621-c0cd-7b8a635cfa20"
      },
      "source": [
        "# Plot what's returned by model.fit()\n",
        "import matplotlib.pyplot as plt\n",
        "plt.plot(r.history['loss'], label='loss')\n",
        "plt.plot(r.history['val_loss'], label='val_loss')\n",
        "plt.legend()"
      ],
      "execution_count": 27,
      "outputs": [
        {
          "output_type": "execute_result",
          "data": {
            "text/plain": [
              "<matplotlib.legend.Legend at 0x7f0f3a40f3d0>"
            ]
          },
          "metadata": {
            "tags": []
          },
          "execution_count": 27
        },
        {
          "output_type": "display_data",
          "data": {
            "image/png": "[encoded data removed]",
            "text/plain": [
              "<Figure size 432x288 with 1 Axes>"
            ]
          },
          "metadata": {
            "tags": [],
            "needs_background": "light"
          }
        }
      ]
    },
    {
      "cell_type": "code",
      "metadata": {
        "colab": {
          "base_uri": "https://localhost:8080/",
          "height": 282
        },
        "id": "GwwSJhsu4sz1",
        "outputId": "20ab12df-6858-4fab-ea97-23a0e702404d"
      },
      "source": [
        "# Plot the accuracy too\n",
        "plt.plot(r.history['accuracy'], label='acc')\n",
        "plt.plot(r.history['val_accuracy'], label='val_acc')\n",
        "plt.legend()"
      ],
      "execution_count": 28,
      "outputs": [
        {
          "output_type": "execute_result",
          "data": {
            "text/plain": [
              "<matplotlib.legend.Legend at 0x7f0f3a40ff50>"
            ]
          },
          "metadata": {
            "tags": []
          },
          "execution_count": 28
        },
        {
          "output_type": "display_data",
          "data": {
            "image/png": "[encoded data removed]",
            "text/plain": [
              "<Figure size 432x288 with 1 Axes>"
            ]
          },
          "metadata": {
            "tags": [],
            "needs_background": "light"
          }
        }
      ]
    },
    {
      "cell_type": "code",
      "metadata": {
        "colab": {
          "base_uri": "https://localhost:8080/"
        },
        "id": "ozc5jdho45R2",
        "outputId": "21837dc1-41a6-4fae-a25b-d5035c1762c6"
      },
      "source": [
        "# Make predictions\n",
        "P = model.predict(X_test)\n",
        "print(P) # they are outputs of the sigmoid, interpreted as probabilities p(y = 1 | x)"
      ],
      "execution_count": 29,
      "outputs": [
        {
          "output_type": "stream",
          "text": [
            "[[9.99200583e-01]\n",
            " [3.84449959e-06]\n",
            " [9.79683399e-02]\n",
            " [9.96770501e-01]\n",
            " [9.96961236e-01]\n",
            " [2.82198191e-04]\n",
            " [9.68684196e-01]\n",
            " [2.13241875e-02]\n",
            " [1.18986338e-01]\n",
            " [6.16908073e-06]\n",
            " [1.03043914e-02]\n",
            " [9.99889851e-01]\n",
            " [8.75224829e-01]\n",
            " [1.98290229e-01]\n",
            " [4.16824520e-02]\n",
            " [1.18544757e-01]\n",
            " [1.79333091e-02]\n",
            " [9.99367833e-01]\n",
            " [7.52128482e-01]\n",
            " [9.91419435e-01]\n",
            " [9.99646306e-01]\n",
            " [9.99672651e-01]\n",
            " [1.14036024e-01]\n",
            " [1.06325716e-01]\n",
            " [8.80181789e-04]\n",
            " [8.72034431e-01]\n",
            " [9.42629158e-01]\n",
            " [9.91468430e-01]\n",
            " [9.96879220e-01]\n",
            " [2.72691250e-05]\n",
            " [9.94016349e-01]\n",
            " [9.24239397e-01]\n",
            " [9.99477386e-01]\n",
            " [3.06905806e-02]\n",
            " [8.72941613e-01]\n",
            " [9.97926772e-01]\n",
            " [9.59905624e-01]\n",
            " [9.53674316e-07]\n",
            " [5.74570894e-03]\n",
            " [9.99348521e-01]\n",
            " [9.92494643e-01]\n",
            " [9.29228723e-01]\n",
            " [8.27908516e-05]\n",
            " [9.55929518e-01]\n",
            " [9.97812033e-01]\n",
            " [9.79066372e-01]\n",
            " [9.79273856e-01]\n",
            " [9.92109656e-01]\n",
            " [2.19124556e-03]\n",
            " [1.48355961e-04]\n",
            " [4.17717695e-02]\n",
            " [9.99138355e-01]\n",
            " [5.34742773e-02]\n",
            " [9.98465419e-01]\n",
            " [9.98983502e-01]\n",
            " [8.61912966e-04]\n",
            " [1.33097172e-04]\n",
            " [9.82616842e-01]\n",
            " [2.38418579e-07]\n",
            " [8.98411274e-01]\n",
            " [4.55777287e-01]\n",
            " [1.49011612e-07]\n",
            " [8.32931638e-01]\n",
            " [0.00000000e+00]\n",
            " [2.72648454e-01]\n",
            " [9.95074630e-01]\n",
            " [6.84320271e-01]\n",
            " [9.95825469e-01]\n",
            " [9.87861633e-01]\n",
            " [9.98443365e-01]\n",
            " [9.93002057e-01]\n",
            " [1.19283795e-03]\n",
            " [9.98843193e-01]\n",
            " [9.82637584e-01]\n",
            " [9.92828608e-01]\n",
            " [9.98658001e-01]\n",
            " [7.59224594e-01]\n",
            " [3.43074203e-02]\n",
            " [9.99273837e-01]\n",
            " [9.99504745e-01]\n",
            " [9.42703128e-01]\n",
            " [9.99861300e-01]\n",
            " [1.62124634e-05]\n",
            " [9.86471415e-01]\n",
            " [9.99443054e-01]\n",
            " [7.28401124e-01]\n",
            " [9.94840384e-01]\n",
            " [5.08549809e-03]\n",
            " [9.96697426e-01]\n",
            " [5.40392518e-01]\n",
            " [9.98296380e-01]\n",
            " [8.94069672e-08]\n",
            " [9.97653604e-01]\n",
            " [9.99770105e-01]\n",
            " [9.13123727e-01]\n",
            " [9.56297815e-02]\n",
            " [7.94529915e-05]\n",
            " [9.91923571e-01]\n",
            " [5.66675186e-01]\n",
            " [9.56799150e-01]\n",
            " [9.74237919e-05]\n",
            " [5.04824519e-03]\n",
            " [9.81850326e-01]\n",
            " [9.47029829e-01]\n",
            " [2.43991613e-04]\n",
            " [9.85259473e-01]\n",
            " [5.76203763e-02]\n",
            " [9.99726295e-01]\n",
            " [9.97373581e-01]\n",
            " [9.42065954e-01]\n",
            " [9.98958230e-01]\n",
            " [9.59299028e-01]\n",
            " [2.57129610e-01]\n",
            " [8.54706824e-01]\n",
            " [6.68436289e-04]\n",
            " [9.95522261e-01]\n",
            " [0.00000000e+00]\n",
            " [1.13144517e-03]\n",
            " [9.99990761e-01]\n",
            " [9.99723196e-01]\n",
            " [5.62310219e-04]\n",
            " [1.83787942e-03]\n",
            " [2.79002190e-02]\n",
            " [9.95693207e-01]\n",
            " [9.99943733e-01]\n",
            " [9.99378324e-01]\n",
            " [9.93158817e-01]\n",
            " [9.77888107e-01]\n",
            " [9.07521546e-01]\n",
            " [8.60585868e-02]\n",
            " [9.96331692e-01]\n",
            " [6.36694670e-01]\n",
            " [9.97272432e-01]\n",
            " [9.99141574e-01]\n",
            " [4.99486923e-05]\n",
            " [9.70527947e-01]\n",
            " [1.60574913e-04]\n",
            " [9.42584872e-03]\n",
            " [1.78120136e-01]\n",
            " [0.00000000e+00]\n",
            " [9.85463262e-01]\n",
            " [9.39627767e-01]\n",
            " [3.72081995e-04]\n",
            " [9.97415662e-01]\n",
            " [3.82784009e-03]\n",
            " [9.81494069e-01]\n",
            " [2.50667334e-04]\n",
            " [4.38988209e-04]\n",
            " [9.98627007e-01]\n",
            " [9.96879697e-01]\n",
            " [7.21720219e-01]\n",
            " [9.79694903e-01]\n",
            " [1.31785870e-04]\n",
            " [9.97269511e-01]\n",
            " [1.10590458e-03]\n",
            " [9.63562429e-01]\n",
            " [6.07310236e-02]\n",
            " [9.98687506e-01]\n",
            " [9.66479003e-01]\n",
            " [9.38589692e-01]\n",
            " [4.40517664e-02]\n",
            " [8.92561555e-01]\n",
            " [1.20264292e-03]\n",
            " [1.04468286e-01]\n",
            " [9.39656258e-01]\n",
            " [9.38907027e-01]\n",
            " [9.52206492e-01]\n",
            " [3.52221787e-01]\n",
            " [9.98596370e-01]\n",
            " [1.29612535e-01]\n",
            " [9.97722387e-01]\n",
            " [9.98499334e-01]\n",
            " [9.98348653e-01]\n",
            " [9.86388445e-01]\n",
            " [8.77580643e-01]\n",
            " [6.92559838e-01]\n",
            " [9.88859296e-01]\n",
            " [9.96413827e-01]\n",
            " [9.83125329e-01]\n",
            " [8.99484217e-01]\n",
            " [9.96043921e-01]\n",
            " [8.97805750e-01]\n",
            " [7.06057847e-02]\n",
            " [1.51845813e-03]\n",
            " [3.30836774e-04]\n",
            " [5.78392029e-01]\n",
            " [8.25441629e-03]\n",
            " [9.64912653e-01]]\n"
          ],
          "name": "stdout"
        }
      ]
    },
    {
      "cell_type": "code",
      "metadata": {
        "colab": {
          "base_uri": "https://localhost:8080/"
        },
        "id": "JTku0GZ86Hua",
        "outputId": "ec4a2bbf-9763-4f1b-bd53-9d918ca42002"
      },
      "source": [
        "# Round to get the actual predictions\n",
        "# Note: has to be flattened since the targets are size (N,) while the predictions are size (N,1)\n",
        "import numpy as np\n",
        "P = np.round(P).flatten()\n",
        "print(P)"
      ],
      "execution_count": 39,
      "outputs": [
        {
          "output_type": "stream",
          "text": [
            "[1. 0. 0. 1. 1. 0. 1. 0. 0. 0. 0. 1. 1. 0. 0. 0. 0. 1. 1. 1. 1. 1. 0. 0.\n",
            " 0. 1. 1. 1. 1. 0. 1. 1. 1. 0. 1. 1. 1. 0. 0. 1. 1. 1. 0. 1. 1. 1. 1. 1.\n",
            " 0. 0. 0. 1. 0. 1. 1. 0. 0. 1. 0. 1. 0. 0. 1. 0. 0. 1. 1. 1. 1. 1. 1. 0.\n",
            " 1. 1. 1. 1. 1. 0. 1. 1. 1. 1. 0. 1. 1. 1. 1. 0. 1. 1. 1. 0. 1. 1. 1. 0.\n",
            " 0. 1. 1. 1. 0. 0. 1. 1. 0. 1. 0. 1. 1. 1. 1. 1. 0. 1. 0. 1. 0. 0. 1. 1.\n",
            " 0. 0. 0. 1. 1. 1. 1. 1. 1. 0. 1. 1. 1. 1. 0. 1. 0. 0. 0. 0. 1. 1. 0. 1.\n",
            " 0. 1. 0. 0. 1. 1. 1. 1. 0. 1. 0. 1. 0. 1. 1. 1. 0. 1. 0. 0. 1. 1. 1. 0.\n",
            " 1. 0. 1. 1. 1. 1. 1. 1. 1. 1. 1. 1. 1. 1. 0. 0. 0. 1. 0. 1.]\n"
          ],
          "name": "stdout"
        }
      ]
    },
    {
      "cell_type": "code",
      "metadata": {
        "colab": {
          "base_uri": "https://localhost:8080/"
        },
        "id": "tj4o1S3l4-OB",
        "outputId": "87a9fae1-dc70-473c-809b-32695a78174e"
      },
      "source": [
        "import numpy as np\n",
        "# Calculate the accuracy, compare it to evaluate() output\n",
        "print(\"Manually calculated accuracy:\", np.mean(P == y_test))\n",
        "print(\"Evaluate output:\", model.evaluate(X_test, y_test))"
      ],
      "execution_count": 31,
      "outputs": [
        {
          "output_type": "stream",
          "text": [
            "Manually calculated accuracy: 0.006281122679945677\n",
            "188/188 [==============================] - 0s 83us/sample - loss: 0.0995 - accuracy: 0.9787\n",
            "Evaluate output: [0.09947264860285089, 0.9787234]\n"
          ],
          "name": "stdout"
        }
      ]
    },
    {
      "cell_type": "code",
      "metadata": {
        "id": "RyYCMqbD5MX3"
      },
      "source": [
        "model.save('linearclassifier.h5')"
      ],
      "execution_count": 35,
      "outputs": []
    },
    {
      "cell_type": "code",
      "metadata": {
        "colab": {
          "base_uri": "https://localhost:8080/"
        },
        "id": "AKicumfm5lHZ",
        "outputId": "6e6cab75-8eb2-4815-d04d-d1105025db3c"
      },
      "source": [
        "!ls -lh "
      ],
      "execution_count": 37,
      "outputs": [
        {
          "output_type": "stream",
          "text": [
            "total 24K\n",
            "-rw-r--r-- 1 root root  19K Apr 30 08:30 linearclassifier.h5\n",
            "drwxr-xr-x 1 root root 4.0K Apr 21 13:39 sample_data\n"
          ],
          "name": "stdout"
        }
      ]
    },
    {
      "cell_type": "code",
      "metadata": {
        "id": "ynA5fpuX5axh"
      },
      "source": [
        ""
      ],
      "execution_count": 39,
      "outputs": []
    }
  ]
}