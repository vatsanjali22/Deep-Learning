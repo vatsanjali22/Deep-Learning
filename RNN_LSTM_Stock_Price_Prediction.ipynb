{
  "nbformat": 4,
  "nbformat_minor": 0,
  "metadata": {
    "colab": {
      "name": "RNN_LSTM_Stock_Price_Prediction.ipynb",
      "provenance": [],
      "collapsed_sections": []
    },
    "kernelspec": {
      "name": "python3",
      "display_name": "Python 3"
    },
    "language_info": {
      "name": "python"
    }
  },
  "cells": [
    {
      "cell_type": "code",
      "metadata": {
        "id": "n5shVE4zACsG"
      },
      "source": [
        "import numpy as np \n",
        "import pandas as pd\n",
        "import matplotlib.pyplot as plt "
      ],
      "execution_count": 1,
      "outputs": []
    },
    {
      "cell_type": "code",
      "metadata": {
        "id": "2GmMB-ARBkFa"
      },
      "source": [
        "dataset_train = pd.read_csv('Google_Stock_Price_Train.csv')"
      ],
      "execution_count": 2,
      "outputs": []
    },
    {
      "cell_type": "code",
      "metadata": {
        "colab": {
          "base_uri": "https://localhost:8080/"
        },
        "id": "a2r76US1BrZd",
        "outputId": "cc641b28-9d44-4ed0-b1ce-27c715a8ce41"
      },
      "source": [
        "dataset_train.info()"
      ],
      "execution_count": 3,
      "outputs": [
        {
          "output_type": "stream",
          "text": [
            "<class 'pandas.core.frame.DataFrame'>\n",
            "RangeIndex: 1258 entries, 0 to 1257\n",
            "Data columns (total 6 columns):\n",
            " #   Column  Non-Null Count  Dtype  \n",
            "---  ------  --------------  -----  \n",
            " 0   Date    1258 non-null   object \n",
            " 1   Open    1258 non-null   float64\n",
            " 2   High    1258 non-null   float64\n",
            " 3   Low     1258 non-null   float64\n",
            " 4   Close   1258 non-null   object \n",
            " 5   Volume  1258 non-null   object \n",
            "dtypes: float64(3), object(3)\n",
            "memory usage: 59.1+ KB\n"
          ],
          "name": "stdout"
        }
      ]
    },
    {
      "cell_type": "code",
      "metadata": {
        "colab": {
          "base_uri": "https://localhost:8080/",
          "height": 297
        },
        "id": "dnfazVzFBt1u",
        "outputId": "f531a2d9-b56e-4138-d1e8-a3f2489a7de1"
      },
      "source": [
        "dataset_train.describe()"
      ],
      "execution_count": 4,
      "outputs": [
        {
          "output_type": "execute_result",
          "data": {
            "text/html": [
              "<div>\n",
              "<style scoped>\n",
              "    .dataframe tbody tr th:only-of-type {\n",
              "        vertical-align: middle;\n",
              "    }\n",
              "\n",
              "    .dataframe tbody tr th {\n",
              "        vertical-align: top;\n",
              "    }\n",
              "\n",
              "    .dataframe thead th {\n",
              "        text-align: right;\n",
              "    }\n",
              "</style>\n",
              "<table border=\"1\" class=\"dataframe\">\n",
              "  <thead>\n",
              "    <tr style=\"text-align: right;\">\n",
              "      <th></th>\n",
              "      <th>Open</th>\n",
              "      <th>High</th>\n",
              "      <th>Low</th>\n",
              "    </tr>\n",
              "  </thead>\n",
              "  <tbody>\n",
              "    <tr>\n",
              "      <th>count</th>\n",
              "      <td>1258.000000</td>\n",
              "      <td>1258.000000</td>\n",
              "      <td>1258.000000</td>\n",
              "    </tr>\n",
              "    <tr>\n",
              "      <th>mean</th>\n",
              "      <td>533.709833</td>\n",
              "      <td>537.880223</td>\n",
              "      <td>529.007409</td>\n",
              "    </tr>\n",
              "    <tr>\n",
              "      <th>std</th>\n",
              "      <td>151.904442</td>\n",
              "      <td>153.008811</td>\n",
              "      <td>150.552807</td>\n",
              "    </tr>\n",
              "    <tr>\n",
              "      <th>min</th>\n",
              "      <td>279.120000</td>\n",
              "      <td>281.210000</td>\n",
              "      <td>277.220000</td>\n",
              "    </tr>\n",
              "    <tr>\n",
              "      <th>25%</th>\n",
              "      <td>404.115000</td>\n",
              "      <td>406.765000</td>\n",
              "      <td>401.765000</td>\n",
              "    </tr>\n",
              "    <tr>\n",
              "      <th>50%</th>\n",
              "      <td>537.470000</td>\n",
              "      <td>540.750000</td>\n",
              "      <td>532.990000</td>\n",
              "    </tr>\n",
              "    <tr>\n",
              "      <th>75%</th>\n",
              "      <td>654.922500</td>\n",
              "      <td>662.587500</td>\n",
              "      <td>644.800000</td>\n",
              "    </tr>\n",
              "    <tr>\n",
              "      <th>max</th>\n",
              "      <td>816.680000</td>\n",
              "      <td>816.680000</td>\n",
              "      <td>805.140000</td>\n",
              "    </tr>\n",
              "  </tbody>\n",
              "</table>\n",
              "</div>"
            ],
            "text/plain": [
              "              Open         High          Low\n",
              "count  1258.000000  1258.000000  1258.000000\n",
              "mean    533.709833   537.880223   529.007409\n",
              "std     151.904442   153.008811   150.552807\n",
              "min     279.120000   281.210000   277.220000\n",
              "25%     404.115000   406.765000   401.765000\n",
              "50%     537.470000   540.750000   532.990000\n",
              "75%     654.922500   662.587500   644.800000\n",
              "max     816.680000   816.680000   805.140000"
            ]
          },
          "metadata": {
            "tags": []
          },
          "execution_count": 4
        }
      ]
    },
    {
      "cell_type": "code",
      "metadata": {
        "id": "6OEjkOGyBvTa"
      },
      "source": [
        "training_set = dataset_train.iloc[:,1:2].values"
      ],
      "execution_count": 5,
      "outputs": []
    },
    {
      "cell_type": "code",
      "metadata": {
        "id": "nnCQUbZfB8l2"
      },
      "source": [
        "from sklearn.preprocessing import MinMaxScaler\n",
        "sc = MinMaxScaler(feature_range = (0,1))\n",
        "training_set_scaled = sc.fit_transform(training_set)"
      ],
      "execution_count": 6,
      "outputs": []
    },
    {
      "cell_type": "code",
      "metadata": {
        "id": "d0b0Q3sACevU"
      },
      "source": [
        "X_train = []\n",
        "y_train = []"
      ],
      "execution_count": 7,
      "outputs": []
    },
    {
      "cell_type": "code",
      "metadata": {
        "id": "-xVXt-FIC6Ny"
      },
      "source": [
        "for i in range(60,1258):\n",
        "    X_train.append(training_set_scaled[i-60:i, 0])\n",
        "    y_train.append(training_set_scaled[i, 0])\n",
        "X_train, y_train = np.array(X_train), np.array(y_train)"
      ],
      "execution_count": 9,
      "outputs": []
    },
    {
      "cell_type": "code",
      "metadata": {
        "id": "Ix7b_Yt-DXir"
      },
      "source": [
        "X_train = np.reshape(X_train, (X_train.shape[0], X_train.shape[1], 1))"
      ],
      "execution_count": 10,
      "outputs": []
    },
    {
      "cell_type": "code",
      "metadata": {
        "id": "3Yvjh3sQDhUs"
      },
      "source": [
        "from keras.models import Sequential\n",
        "from keras.layers import Dense \n",
        "from keras.layers import LSTM\n",
        "from keras.layers import Dropout"
      ],
      "execution_count": 12,
      "outputs": []
    },
    {
      "cell_type": "code",
      "metadata": {
        "id": "IVqJjs18DgxP"
      },
      "source": [
        "regressor = Sequential()"
      ],
      "execution_count": 13,
      "outputs": []
    },
    {
      "cell_type": "code",
      "metadata": {
        "id": "FOXqJHmNjBkz"
      },
      "source": [
        "regressor.add(LSTM(units = 50, return_sequences=True, input_shape = (X_train.shape[1], 1)))"
      ],
      "execution_count": 14,
      "outputs": []
    },
    {
      "cell_type": "code",
      "metadata": {
        "id": "ZI0E0fu9EC05"
      },
      "source": [
        "regressor.add(LSTM(units=50, return_sequences=True))\n",
        "regressor.add(Dropout(0.2))"
      ],
      "execution_count": 15,
      "outputs": []
    },
    {
      "cell_type": "code",
      "metadata": {
        "id": "AbynPoohFy-M"
      },
      "source": [
        "regressor.add(LSTM(units = 50))\n",
        "regressor.add(Dropout(0.2))"
      ],
      "execution_count": 16,
      "outputs": []
    },
    {
      "cell_type": "code",
      "metadata": {
        "id": "lnfigYRLF18H"
      },
      "source": [
        "regressor.add(Dense(units=1))"
      ],
      "execution_count": 17,
      "outputs": []
    },
    {
      "cell_type": "code",
      "metadata": {
        "id": "E1WV3UMnF5pZ"
      },
      "source": [
        "regressor.compile(optimizer = 'adam', loss='mean_squared_error')"
      ],
      "execution_count": 18,
      "outputs": []
    },
    {
      "cell_type": "code",
      "metadata": {
        "colab": {
          "base_uri": "https://localhost:8080/"
        },
        "id": "hektza-6GBdH",
        "outputId": "fb0ffa23-0d83-4567-fd03-86de4fd563ac"
      },
      "source": [
        "regressor.fit(X_train, y_train, batch_size = 32, epochs = 100)"
      ],
      "execution_count": 19,
      "outputs": [
        {
          "output_type": "stream",
          "text": [
            "Epoch 1/100\n",
            "38/38 [==============================] - 25s 86ms/step - loss: 0.0504\n",
            "Epoch 2/100\n",
            "38/38 [==============================] - 3s 86ms/step - loss: 0.0052\n",
            "Epoch 3/100\n",
            "38/38 [==============================] - 3s 85ms/step - loss: 0.0043\n",
            "Epoch 4/100\n",
            "38/38 [==============================] - 3s 85ms/step - loss: 0.0061\n",
            "Epoch 5/100\n",
            "38/38 [==============================] - 3s 86ms/step - loss: 0.0041\n",
            "Epoch 6/100\n",
            "38/38 [==============================] - 3s 87ms/step - loss: 0.0043\n",
            "Epoch 7/100\n",
            "38/38 [==============================] - 3s 86ms/step - loss: 0.0045\n",
            "Epoch 8/100\n",
            "38/38 [==============================] - 3s 85ms/step - loss: 0.0035\n",
            "Epoch 9/100\n",
            "38/38 [==============================] - 3s 85ms/step - loss: 0.0034\n",
            "Epoch 10/100\n",
            "38/38 [==============================] - 3s 86ms/step - loss: 0.0039\n",
            "Epoch 11/100\n",
            "38/38 [==============================] - 3s 86ms/step - loss: 0.0036\n",
            "Epoch 12/100\n",
            "38/38 [==============================] - 3s 86ms/step - loss: 0.0036\n",
            "Epoch 13/100\n",
            "38/38 [==============================] - 3s 86ms/step - loss: 0.0035\n",
            "Epoch 14/100\n",
            "38/38 [==============================] - 3s 86ms/step - loss: 0.0033\n",
            "Epoch 15/100\n",
            "38/38 [==============================] - 3s 84ms/step - loss: 0.0032\n",
            "Epoch 16/100\n",
            "38/38 [==============================] - 3s 84ms/step - loss: 0.0033\n",
            "Epoch 17/100\n",
            "38/38 [==============================] - 3s 86ms/step - loss: 0.0029\n",
            "Epoch 18/100\n",
            "38/38 [==============================] - 3s 86ms/step - loss: 0.0027\n",
            "Epoch 19/100\n",
            "38/38 [==============================] - 3s 85ms/step - loss: 0.0028\n",
            "Epoch 20/100\n",
            "38/38 [==============================] - 3s 86ms/step - loss: 0.0027\n",
            "Epoch 21/100\n",
            "38/38 [==============================] - 3s 86ms/step - loss: 0.0033\n",
            "Epoch 22/100\n",
            "38/38 [==============================] - 3s 85ms/step - loss: 0.0029\n",
            "Epoch 23/100\n",
            "38/38 [==============================] - 3s 86ms/step - loss: 0.0034\n",
            "Epoch 24/100\n",
            "38/38 [==============================] - 3s 85ms/step - loss: 0.0031\n",
            "Epoch 25/100\n",
            "38/38 [==============================] - 3s 84ms/step - loss: 0.0025\n",
            "Epoch 26/100\n",
            "38/38 [==============================] - 3s 83ms/step - loss: 0.0032\n",
            "Epoch 27/100\n",
            "38/38 [==============================] - 3s 85ms/step - loss: 0.0031\n",
            "Epoch 28/100\n",
            "38/38 [==============================] - 3s 85ms/step - loss: 0.0024\n",
            "Epoch 29/100\n",
            "38/38 [==============================] - 3s 84ms/step - loss: 0.0026\n",
            "Epoch 30/100\n",
            "38/38 [==============================] - 3s 85ms/step - loss: 0.0026\n",
            "Epoch 31/100\n",
            "38/38 [==============================] - 3s 84ms/step - loss: 0.0022\n",
            "Epoch 32/100\n",
            "38/38 [==============================] - 3s 85ms/step - loss: 0.0022\n",
            "Epoch 33/100\n",
            "38/38 [==============================] - 3s 86ms/step - loss: 0.0028\n",
            "Epoch 34/100\n",
            "38/38 [==============================] - 3s 85ms/step - loss: 0.0028\n",
            "Epoch 35/100\n",
            "38/38 [==============================] - 3s 83ms/step - loss: 0.0021\n",
            "Epoch 36/100\n",
            "38/38 [==============================] - 3s 86ms/step - loss: 0.0024\n",
            "Epoch 37/100\n",
            "38/38 [==============================] - 3s 86ms/step - loss: 0.0023\n",
            "Epoch 38/100\n",
            "38/38 [==============================] - 3s 86ms/step - loss: 0.0024\n",
            "Epoch 39/100\n",
            "38/38 [==============================] - 3s 86ms/step - loss: 0.0022\n",
            "Epoch 40/100\n",
            "38/38 [==============================] - 3s 84ms/step - loss: 0.0020\n",
            "Epoch 41/100\n",
            "38/38 [==============================] - 3s 85ms/step - loss: 0.0019\n",
            "Epoch 42/100\n",
            "38/38 [==============================] - 3s 84ms/step - loss: 0.0024\n",
            "Epoch 43/100\n",
            "38/38 [==============================] - 3s 86ms/step - loss: 0.0022\n",
            "Epoch 44/100\n",
            "38/38 [==============================] - 3s 86ms/step - loss: 0.0020\n",
            "Epoch 45/100\n",
            "38/38 [==============================] - 3s 85ms/step - loss: 0.0021\n",
            "Epoch 46/100\n",
            "38/38 [==============================] - 3s 86ms/step - loss: 0.0019\n",
            "Epoch 47/100\n",
            "38/38 [==============================] - 3s 85ms/step - loss: 0.0018\n",
            "Epoch 48/100\n",
            "38/38 [==============================] - 3s 85ms/step - loss: 0.0019\n",
            "Epoch 49/100\n",
            "38/38 [==============================] - 3s 85ms/step - loss: 0.0017\n",
            "Epoch 50/100\n",
            "38/38 [==============================] - 3s 84ms/step - loss: 0.0020\n",
            "Epoch 51/100\n",
            "38/38 [==============================] - 3s 85ms/step - loss: 0.0017\n",
            "Epoch 52/100\n",
            "38/38 [==============================] - 3s 83ms/step - loss: 0.0020\n",
            "Epoch 53/100\n",
            "38/38 [==============================] - 3s 84ms/step - loss: 0.0018\n",
            "Epoch 54/100\n",
            "38/38 [==============================] - 3s 85ms/step - loss: 0.0016\n",
            "Epoch 55/100\n",
            "38/38 [==============================] - 3s 84ms/step - loss: 0.0017\n",
            "Epoch 56/100\n",
            "38/38 [==============================] - 3s 83ms/step - loss: 0.0017\n",
            "Epoch 57/100\n",
            "38/38 [==============================] - 3s 86ms/step - loss: 0.0016\n",
            "Epoch 58/100\n",
            "38/38 [==============================] - 3s 84ms/step - loss: 0.0015\n",
            "Epoch 59/100\n",
            "38/38 [==============================] - 3s 83ms/step - loss: 0.0013\n",
            "Epoch 60/100\n",
            "38/38 [==============================] - 3s 85ms/step - loss: 0.0013\n",
            "Epoch 61/100\n",
            "38/38 [==============================] - 3s 84ms/step - loss: 0.0013\n",
            "Epoch 62/100\n",
            "38/38 [==============================] - 3s 85ms/step - loss: 0.0016\n",
            "Epoch 63/100\n",
            "38/38 [==============================] - 3s 86ms/step - loss: 0.0015\n",
            "Epoch 64/100\n",
            "38/38 [==============================] - 3s 86ms/step - loss: 0.0013\n",
            "Epoch 65/100\n",
            "38/38 [==============================] - 3s 86ms/step - loss: 0.0013\n",
            "Epoch 66/100\n",
            "38/38 [==============================] - 3s 86ms/step - loss: 0.0018\n",
            "Epoch 67/100\n",
            "38/38 [==============================] - 3s 85ms/step - loss: 0.0014\n",
            "Epoch 68/100\n",
            "38/38 [==============================] - 3s 86ms/step - loss: 0.0014\n",
            "Epoch 69/100\n",
            "38/38 [==============================] - 3s 86ms/step - loss: 0.0013\n",
            "Epoch 70/100\n",
            "38/38 [==============================] - 3s 85ms/step - loss: 0.0016\n",
            "Epoch 71/100\n",
            "38/38 [==============================] - 3s 86ms/step - loss: 0.0014\n",
            "Epoch 72/100\n",
            "38/38 [==============================] - 3s 84ms/step - loss: 0.0014\n",
            "Epoch 73/100\n",
            "38/38 [==============================] - 3s 86ms/step - loss: 0.0012\n",
            "Epoch 74/100\n",
            "38/38 [==============================] - 3s 86ms/step - loss: 0.0013\n",
            "Epoch 75/100\n",
            "38/38 [==============================] - 3s 86ms/step - loss: 0.0013\n",
            "Epoch 76/100\n",
            "38/38 [==============================] - 3s 85ms/step - loss: 0.0013\n",
            "Epoch 77/100\n",
            "38/38 [==============================] - 3s 86ms/step - loss: 0.0014\n",
            "Epoch 78/100\n",
            "38/38 [==============================] - 3s 84ms/step - loss: 0.0013\n",
            "Epoch 79/100\n",
            "38/38 [==============================] - 3s 85ms/step - loss: 0.0013\n",
            "Epoch 80/100\n",
            "38/38 [==============================] - 3s 85ms/step - loss: 0.0013\n",
            "Epoch 81/100\n",
            "38/38 [==============================] - 3s 86ms/step - loss: 0.0012\n",
            "Epoch 82/100\n",
            "38/38 [==============================] - 3s 85ms/step - loss: 0.0013\n",
            "Epoch 83/100\n",
            "38/38 [==============================] - 3s 84ms/step - loss: 0.0010\n",
            "Epoch 84/100\n",
            "38/38 [==============================] - 3s 86ms/step - loss: 0.0013\n",
            "Epoch 85/100\n",
            "38/38 [==============================] - 3s 84ms/step - loss: 0.0010\n",
            "Epoch 86/100\n",
            "38/38 [==============================] - 3s 84ms/step - loss: 0.0013\n",
            "Epoch 87/100\n",
            "38/38 [==============================] - 3s 83ms/step - loss: 0.0011\n",
            "Epoch 88/100\n",
            "38/38 [==============================] - 3s 84ms/step - loss: 0.0013\n",
            "Epoch 89/100\n",
            "38/38 [==============================] - 3s 85ms/step - loss: 0.0011\n",
            "Epoch 90/100\n",
            "38/38 [==============================] - 3s 85ms/step - loss: 0.0012\n",
            "Epoch 91/100\n",
            "38/38 [==============================] - 3s 85ms/step - loss: 0.0011\n",
            "Epoch 92/100\n",
            "38/38 [==============================] - 3s 86ms/step - loss: 0.0012\n",
            "Epoch 93/100\n",
            "38/38 [==============================] - 3s 86ms/step - loss: 0.0011\n",
            "Epoch 94/100\n",
            "38/38 [==============================] - 3s 86ms/step - loss: 0.0013\n",
            "Epoch 95/100\n",
            "38/38 [==============================] - 3s 86ms/step - loss: 0.0012\n",
            "Epoch 96/100\n",
            "38/38 [==============================] - 3s 86ms/step - loss: 0.0013\n",
            "Epoch 97/100\n",
            "38/38 [==============================] - 3s 84ms/step - loss: 0.0010\n",
            "Epoch 98/100\n",
            "38/38 [==============================] - 3s 85ms/step - loss: 0.0012\n",
            "Epoch 99/100\n",
            "38/38 [==============================] - 3s 85ms/step - loss: 9.1332e-04\n",
            "Epoch 100/100\n",
            "38/38 [==============================] - 3s 86ms/step - loss: 0.0010\n"
          ],
          "name": "stdout"
        },
        {
          "output_type": "execute_result",
          "data": {
            "text/plain": [
              "<keras.callbacks.History at 0x7fdbedd97f10>"
            ]
          },
          "metadata": {
            "tags": []
          },
          "execution_count": 19
        }
      ]
    },
    {
      "cell_type": "code",
      "metadata": {
        "id": "rbclKOcXGLHZ"
      },
      "source": [
        "dataset_test = pd.read_csv('Google_Stock_Price_Test.csv')\n",
        "real_stock_price = dataset_test.iloc[:, 1:2].values"
      ],
      "execution_count": 20,
      "outputs": []
    },
    {
      "cell_type": "code",
      "metadata": {
        "id": "p0I1ZXmnH15Z"
      },
      "source": [
        ""
      ],
      "execution_count": null,
      "outputs": []
    },
    {
      "cell_type": "code",
      "metadata": {
        "id": "emikTvUpk3Ck"
      },
      "source": [
        "dataset_total = pd.concat((dataset_train['Open'], dataset_test['Open']), axis = 0)\n",
        "inputs = dataset_total[len(dataset_total) - len(dataset_test) - 60:].values\n",
        "inputs = inputs.reshape(-1,1)\n",
        "inputs = sc.transform(inputs)\n",
        "X_test = []\n",
        "for i in range(60, 80):\n",
        "    X_test.append(inputs[i-60:i, 0])\n",
        "X_test = np.array(X_test)\n",
        "X_test = np.reshape(X_test, (X_test.shape[0], X_test.shape[1], 1))\n",
        "predicted_stock_price = regressor.predict(X_test)\n",
        "predicted_stock_price = sc.inverse_transform(predicted_stock_price)"
      ],
      "execution_count": 21,
      "outputs": []
    },
    {
      "cell_type": "code",
      "metadata": {
        "id": "8OUI8U49k9tH",
        "colab": {
          "base_uri": "https://localhost:8080/",
          "height": 295
        },
        "outputId": "fecc1fc0-bc4e-4b3b-f87a-b91e0bdbb2dd"
      },
      "source": [
        "plt.plot(real_stock_price, color = 'red', label = 'Real Google Stock Price')\n",
        "plt.plot(predicted_stock_price, color = 'blue', label = 'Predicted Google Stock Price')\n",
        "plt.title('Google Stock Price Prediction')\n",
        "plt.xlabel('Time')\n",
        "plt.ylabel('Google Stock Price')\n",
        "plt.legend()\n",
        "plt.show()"
      ],
      "execution_count": 22,
      "outputs": [
        {
          "output_type": "display_data",
          "data": {
            "image/png": "[encoded data removed]",
            "text/plain": [
              "<Figure size 432x288 with 1 Axes>"
            ]
          },
          "metadata": {
            "tags": [],
            "needs_background": "light"
          }
        }
      ]
    }
  ]
}